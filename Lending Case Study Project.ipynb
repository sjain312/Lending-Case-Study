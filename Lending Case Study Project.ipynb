{
 "cells": [
  {
   "cell_type": "code",
   "execution_count": null,
   "id": "4e9f613a",
   "metadata": {},
   "outputs": [],
   "source": [
    "#importing the libraries and reading the file\n",
    "import pandas as pd\n",
    "import numpy as np\n",
    "data=pd.read_csv(\"C:/Users/SHWETA/Dropbox/Upgrad course/EDA/Lending Case study/loan_test_1.csv\",low_memory=False)\n",
    "print(data)"
   ]
  },
  {
   "cell_type": "code",
   "execution_count": null,
   "id": "042348e8",
   "metadata": {},
   "outputs": [],
   "source": [
    "#displaying the data\n",
    "data.head(3).append(data.tail(3))"
   ]
  },
  {
   "cell_type": "code",
   "execution_count": null,
   "id": "7d7d7d54",
   "metadata": {},
   "outputs": [],
   "source": [
    "# specifying the rows and coumns in data\n",
    "data.shape"
   ]
  },
  {
   "cell_type": "code",
   "execution_count": null,
   "id": "9b550855",
   "metadata": {},
   "outputs": [],
   "source": [
    "#dispalying the format of variables and the obsrvations in the data\n",
    "data.info(max_cols = 130)"
   ]
  },
  {
   "cell_type": "code",
   "execution_count": null,
   "id": "eed1c085",
   "metadata": {},
   "outputs": [],
   "source": [
    "# displaying the summary statistics\n",
    "data.describe()"
   ]
  },
  {
   "cell_type": "code",
   "execution_count": null,
   "id": "21ba12d5",
   "metadata": {},
   "outputs": [],
   "source": [
    "#coutning on the missing values\n",
    "pd.options.display.min_rows = 115\n",
    "data.isnull().sum()"
   ]
  },
  {
   "cell_type": "code",
   "execution_count": null,
   "id": "39d90de8",
   "metadata": {},
   "outputs": [],
   "source": [
    "# counting the missign values and also the %age of those missing values\n",
    "l1 = data.isnull().sum()\n",
    "l2 = round(data.isnull().sum()/len(data.index), 3)*100\n",
    "missing_val = pd.DataFrame(list(zip(l1, l2)),columns =['Missing_Values', 'Missing_Values %'])\n",
    "df1 = pd.DataFrame(data.columns, columns =['Original Features'])\n",
    "missing_val = pd.merge(df1, missing_val, left_index=True, right_index=True)\n",
    "missing_val.head(120)"
   ]
  },
  {
   "cell_type": "code",
   "execution_count": null,
   "id": "538cd0bc",
   "metadata": {},
   "outputs": [],
   "source": [
    "import missingno as msno\n",
    "%matplotlib inline\n",
    "msno.matrix(df, labels=True, sort=\"ascending\", color=(0.5, 0.4, 0.3))"
   ]
  },
  {
   "cell_type": "code",
   "execution_count": null,
   "id": "02267d0a",
   "metadata": {},
   "outputs": [],
   "source": [
    "# to count unique values for the columns in the dataset\n",
    "print(data.nunique())\n",
    "view(marks)"
   ]
  },
  {
   "cell_type": "code",
   "execution_count": null,
   "id": "0007844b",
   "metadata": {},
   "outputs": [],
   "source": [
    "import matplotlib.pyplot as plt\n",
    "# Create a histogram of each variable\n",
    "plt.hist(data['loan_amnt'], bins='auto')\n",
    "plt.xlabel('Variable')\n",
    "plt.ylabel('Frequency')\n",
    "plt.title('Histogram of loan_amnt')\n",
    "plt.show()"
   ]
  },
  {
   "cell_type": "code",
   "execution_count": null,
   "id": "ad45688e",
   "metadata": {},
   "outputs": [],
   "source": [
    "# Create a histogram of each variable\n",
    "plt.hist(data['funded_amnt'], bins='auto')\n",
    "plt.xlabel('Variable')\n",
    "plt.ylabel('Frequency')\n",
    "plt.title('Histogram of loan_amnt')\n",
    "plt.show()"
   ]
  },
  {
   "cell_type": "code",
   "execution_count": null,
   "id": "ba84e6e7",
   "metadata": {},
   "outputs": [],
   "source": [
    "# Create a histogram of each variable\n",
    "plt.hist(data['term'], bins='auto')\n",
    "plt.xlabel('Variable')\n",
    "plt.ylabel('Frequency')\n",
    "plt.title('Histogram of loan_amnt')\n",
    "plt.show()"
   ]
  },
  {
   "cell_type": "code",
   "execution_count": null,
   "id": "98eab082",
   "metadata": {},
   "outputs": [],
   "source": [
    "# Create a histogram of each variable\n",
    "plt.hist(data['loan_status'], bins='auto')\n",
    "plt.xlabel('Variable')\n",
    "plt.ylabel('Frequency')\n",
    "plt.title('Histogram of loan_amnt')\n",
    "plt.show()"
   ]
  },
  {
   "cell_type": "code",
   "execution_count": null,
   "id": "d8d31683",
   "metadata": {},
   "outputs": [],
   "source": [
    "#Create a box plot for the loan_amnt\n",
    "plt.boxplot(data.loan_amnt)\n",
    "plt.show()"
   ]
  },
  {
   "cell_type": "code",
   "execution_count": null,
   "id": "c72ba553",
   "metadata": {},
   "outputs": [],
   "source": [
    "plt.boxplot(data.funded_amnt_inv)\n",
    "plt.show()"
   ]
  },
  {
   "cell_type": "code",
   "execution_count": null,
   "id": "945f42ba",
   "metadata": {},
   "outputs": [],
   "source": [
    "#understanding the dependent variable\n",
    "data[\"loan_status\"]"
   ]
  },
  {
   "cell_type": "code",
   "execution_count": null,
   "id": "797d66f6",
   "metadata": {},
   "outputs": [],
   "source": [
    "# creating the categorical variable from the dependent variable\n",
    "data['cat_def'] = np.where(data['loan_status'] == 'Charged Off', 1, np.where(data['loan_status'] == 'Fully Paid', 0, np.nan))\n",
    "print(data)"
   ]
  },
  {
   "cell_type": "code",
   "execution_count": null,
   "id": "6025f1ee",
   "metadata": {},
   "outputs": [],
   "source": [
    "# to idenitfy the variables that are determinants of default\n",
    "# we identified the column number and tthen we ran regression\n",
    "variable_name = 'loan_amnt'\n",
    "column_number = data.columns.get_loc(variable_name)\n",
    "\n",
    "# Print the column number\n",
    "print(f\"The column number of '{variable_name}' is: {column_number}\")"
   ]
  },
  {
   "cell_type": "code",
   "execution_count": null,
   "id": "44702707",
   "metadata": {},
   "outputs": [],
   "source": [
    "# regression analysis\n",
    "import numpy as np\n",
    "import pandas as pd\n",
    "import statsmodels.api as sm\n",
    "\n",
    "filtered_data = data.dropna(subset=[data.columns[2], data.columns[111]])\n",
    "\n",
    "x = filtered_data.iloc[:, 2].values.reshape(-1, 1) \n",
    "y = filtered_data.iloc[:, 111].values.reshape(-1, 1)\n",
    "X = sm.add_constant(x)\n",
    "model = sm.OLS(y, X)\n",
    "results = model.fit()\n",
    "print(results.summary())"
   ]
  },
  {
   "cell_type": "code",
   "execution_count": null,
   "id": "85a36751",
   "metadata": {},
   "outputs": [],
   "source": [
    "variable_name = 'funded_amnt'\n",
    "column_number = data.columns.get_loc(variable_name)\n",
    "\n",
    "# Print the column number\n",
    "print(f\"The column number of '{variable_name}' is: {column_number}\")"
   ]
  },
  {
   "cell_type": "code",
   "execution_count": null,
   "id": "f4ca0dfe",
   "metadata": {},
   "outputs": [],
   "source": [
    "import numpy as np\n",
    "import pandas as pd\n",
    "import statsmodels.api as sm\n",
    "\n",
    "filtered_data = data.dropna(subset=[data.columns[2], data.columns[113]])\n",
    "\n",
    "x = filtered_data.iloc[:, 3].values.reshape(-1, 1) \n",
    "y = filtered_data.iloc[:, 113].values.reshape(-1, 1)\n",
    "X = sm.add_constant(x)\n",
    "model = sm.OLS(y, X)\n",
    "results = model.fit()\n",
    "print(results.summary())"
   ]
  },
  {
   "cell_type": "code",
   "execution_count": null,
   "id": "d368bda1",
   "metadata": {},
   "outputs": [],
   "source": [
    "variable_name = 'funded_amnt_inv'\n",
    "column_number = data.columns.get_loc(variable_name)\n",
    "\n",
    "# Print the column number\n",
    "print(f\"The column number of '{variable_name}' is: {column_number}\")"
   ]
  },
  {
   "cell_type": "code",
   "execution_count": null,
   "id": "7a1b87db",
   "metadata": {},
   "outputs": [],
   "source": [
    "import numpy as np\n",
    "import pandas as pd\n",
    "import statsmodels.api as sm\n",
    "\n",
    "filtered_data = data.dropna(subset=[data.columns[4], data.columns[113]])\n",
    "\n",
    "x = filtered_data.iloc[:, 4].values.reshape(-1, 1) \n",
    "y = filtered_data.iloc[:, 113].values.reshape(-1, 1)\n",
    "X = sm.add_constant(x)\n",
    "model = sm.OLS(y, X)\n",
    "results = model.fit()\n",
    "print(results.summary())"
   ]
  },
  {
   "cell_type": "code",
   "execution_count": null,
   "id": "32f72d20",
   "metadata": {},
   "outputs": [],
   "source": []
  }
 ],
 "metadata": {
  "kernelspec": {
   "display_name": "Python 3 (ipykernel)",
   "language": "python",
   "name": "python3"
  },
  "language_info": {
   "codemirror_mode": {
    "name": "ipython",
    "version": 3
   },
   "file_extension": ".py",
   "mimetype": "text/x-python",
   "name": "python",
   "nbconvert_exporter": "python",
   "pygments_lexer": "ipython3",
   "version": "3.10.9"
  }
 },
 "nbformat": 4,
 "nbformat_minor": 5
}
